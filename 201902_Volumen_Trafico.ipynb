{
 "cells": [
  {
   "cell_type": "code",
   "execution_count": 7,
   "metadata": {},
   "outputs": [],
   "source": [
    "import pandas as pd\n",
    "import numpy as np\n",
    "import matplotlib.pyplot as plt\n",
    "import seaborn as sns\n",
    "import datetime\n",
    "\n",
    "plt.style.use('fivethirtyeight')\n",
    "\n",
    "%matplotlib inline\n",
    "\n",
    "params = {'legend.fontsize': 14,\n",
    "          'figure.figsize': (15,6),\n",
    "         'axes.labelsize': 14,\n",
    "         'axes.titlesize':14,\n",
    "         'xtick.labelsize':14,\n",
    "         'ytick.labelsize':14,\n",
    "         'axes.facecolor': 'white',\n",
    "         'axes.edgecolor': 'white',\n",
    "         'axes.grid': 'False',\n",
    "         'figure.facecolor': 'white'}\n",
    "plt.rcParams.update(params)"
   ]
  },
  {
   "cell_type": "code",
   "execution_count": 10,
   "metadata": {},
   "outputs": [
    {
     "data": {
      "text/html": [
       "<div>\n",
       "<style scoped>\n",
       "    .dataframe tbody tr th:only-of-type {\n",
       "        vertical-align: middle;\n",
       "    }\n",
       "\n",
       "    .dataframe tbody tr th {\n",
       "        vertical-align: top;\n",
       "    }\n",
       "\n",
       "    .dataframe thead th {\n",
       "        text-align: right;\n",
       "    }\n",
       "</style>\n",
       "<table border=\"1\" class=\"dataframe\">\n",
       "  <thead>\n",
       "    <tr style=\"text-align: right;\">\n",
       "      <th></th>\n",
       "      <th>year</th>\n",
       "      <th>Cinturon</th>\n",
       "      <th>via</th>\n",
       "      <th>bici</th>\n",
       "      <th>moto</th>\n",
       "      <th>resto</th>\n",
       "    </tr>\n",
       "  </thead>\n",
       "  <tbody>\n",
       "    <tr>\n",
       "      <th>0</th>\n",
       "      <td>2008</td>\n",
       "      <td>Interior Primer Cintur¢n</td>\n",
       "      <td>Calle Gran V¡a</td>\n",
       "      <td>11</td>\n",
       "      <td>382</td>\n",
       "      <td>3300</td>\n",
       "    </tr>\n",
       "    <tr>\n",
       "      <th>1</th>\n",
       "      <td>2008</td>\n",
       "      <td>Interior Primer Cintur¢n</td>\n",
       "      <td>Calle San Bernardo</td>\n",
       "      <td>10</td>\n",
       "      <td>107</td>\n",
       "      <td>818</td>\n",
       "    </tr>\n",
       "    <tr>\n",
       "      <th>2</th>\n",
       "      <td>2008</td>\n",
       "      <td>Interior Primer Cintur¢n</td>\n",
       "      <td>Calle Princesa</td>\n",
       "      <td>3</td>\n",
       "      <td>221</td>\n",
       "      <td>2943</td>\n",
       "    </tr>\n",
       "    <tr>\n",
       "      <th>3</th>\n",
       "      <td>2008</td>\n",
       "      <td>Primer Cintur¢n</td>\n",
       "      <td>Calle Gnova</td>\n",
       "      <td>11</td>\n",
       "      <td>531</td>\n",
       "      <td>4140</td>\n",
       "    </tr>\n",
       "    <tr>\n",
       "      <th>4</th>\n",
       "      <td>2008</td>\n",
       "      <td>Primer Cintur¢n</td>\n",
       "      <td>Paseo de El Prado</td>\n",
       "      <td>28</td>\n",
       "      <td>748</td>\n",
       "      <td>7830</td>\n",
       "    </tr>\n",
       "  </tbody>\n",
       "</table>\n",
       "</div>"
      ],
      "text/plain": [
       "   year                  Cinturon                 via  bici  moto  resto\n",
       "0  2008  Interior Primer Cintur¢n      Calle Gran V¡a    11   382   3300\n",
       "1  2008  Interior Primer Cintur¢n  Calle San Bernardo    10   107    818\n",
       "2  2008  Interior Primer Cintur¢n      Calle Princesa     3   221   2943\n",
       "3  2008           Primer Cintur¢n        Calle Gnova    11   531   4140\n",
       "4  2008           Primer Cintur¢n   Paseo de El Prado    28   748   7830"
      ]
     },
     "execution_count": 10,
     "metadata": {},
     "output_type": "execute_result"
    }
   ],
   "source": [
    "# Leer datos de aforo de tráfico de Madrid entre 2008 y 2017\n",
    "aforo = pd.read_csv('201902_Aforos_2008_a_2017-2.csv',encoding = 'iso-8859-1',delimiter = ';', thousands = '.')\n",
    "aforo.head()"
   ]
  },
  {
   "cell_type": "code",
   "execution_count": 11,
   "metadata": {},
   "outputs": [],
   "source": [
    "# Sumar todos los datos de cada año y calcular aforo total \n",
    "aforo_year = aforo.groupby(['year']).sum().reset_index()\n",
    "aforo_year['total'] = aforo_year['bici'] + aforo_year['moto'] + aforo_year['resto']\n"
   ]
  },
  {
   "cell_type": "code",
   "execution_count": 12,
   "metadata": {},
   "outputs": [],
   "source": [
    "# CAlcular aforos en %\n",
    "x = aforo_year['year']\n",
    "y1= aforo_year['moto']/aforo_year['total']*100\n",
    "y2 = aforo_year['bici']/aforo_year['total']*100"
   ]
  },
  {
   "cell_type": "code",
   "execution_count": 13,
   "metadata": {
    "scrolled": false
   },
   "outputs": [
    {
     "data": {
      "image/png": "[encoded data removed]",
      "text/plain": [
       "<Figure size 1080x432 with 1 Axes>"
      ]
     },
     "metadata": {},
     "output_type": "display_data"
    }
   ],
   "source": [
    "plt.plot(x, y1,lw=2, ls='-', alpha=1, color=sns.color_palette()[0], label='Motos')\n",
    "plt.plot(x, y2,lw=2, ls='-', alpha=1, color=sns.color_palette()[2],  label='Bicis')\n",
    "\n",
    "plt.grid(axis='y') \n",
    "plt.xticks(x, rotation=0)\n",
    "plt.axis(ymin= 0 , ymax=16)\n",
    "plt.ylabel('%', rotation=0, ha = 'right')\n",
    "plt.legend(loc='right')\n",
    "plt.title('Evolución anual de aforos de tráfico en Madrid',fontsize= 18)\n",
    "plt.savefig('images/aforos_2008_2017.png', bbox_inches='tight', pad_inches=0.3, dpi=220, facecolor='white')\n",
    "plt.show()"
   ]
  },
  {
   "cell_type": "code",
   "execution_count": 15,
   "metadata": {},
   "outputs": [
    {
     "data": {
      "text/plain": [
       "0     9.413908\n",
       "1    11.011592\n",
       "2    11.308975\n",
       "3    11.332152\n",
       "4    12.506002\n",
       "5    11.856128\n",
       "6    12.738584\n",
       "7    14.088233\n",
       "8    13.860668\n",
       "9    15.136600\n",
       "dtype: float64"
      ]
     },
     "execution_count": 15,
     "metadata": {},
     "output_type": "execute_result"
    }
   ],
   "source": [
    "# % aforo de motos\n",
    "y1"
   ]
  },
  {
   "cell_type": "code",
   "execution_count": 16,
   "metadata": {},
   "outputs": [
    {
     "data": {
      "text/plain": [
       "0    0.219298\n",
       "1    0.330922\n",
       "2    0.394636\n",
       "3    0.468759\n",
       "4    0.605036\n",
       "5    0.702757\n",
       "6    0.812773\n",
       "7    1.211314\n",
       "8    1.257862\n",
       "9    1.323599\n",
       "dtype: float64"
      ]
     },
     "execution_count": 16,
     "metadata": {},
     "output_type": "execute_result"
    }
   ],
   "source": [
    "# % aforo de bicis\n",
    "y2\n"
   ]
  },
  {
   "cell_type": "code",
   "execution_count": null,
   "metadata": {},
   "outputs": [],
   "source": []
  }
 ],
 "metadata": {
  "kernelspec": {
   "display_name": "Python 3",
   "language": "python",
   "name": "python3"
  },
  "language_info": {
   "codemirror_mode": {
    "name": "ipython",
    "version": 3
   },
   "file_extension": ".py",
   "mimetype": "text/x-python",
   "name": "python",
   "nbconvert_exporter": "python",
   "pygments_lexer": "ipython3",
   "version": "3.7.1"
  }
 },
 "nbformat": 4,
 "nbformat_minor": 2
}
