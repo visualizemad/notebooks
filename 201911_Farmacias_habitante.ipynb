{
 "cells": [
  {
   "cell_type": "code",
   "execution_count": 81,
   "metadata": {},
   "outputs": [],
   "source": [
    "import pandas as pd\n",
    "import numpy as np\n",
    "import matplotlib.pyplot as plt\n",
    "import seaborn as sns\n",
    "import datetime\n",
    "\n",
    "\n",
    "plt.style.use('fivethirtyeight')\n",
    "\n",
    "%matplotlib inline\n",
    "\n",
    "params = {'legend.fontsize': 14,\n",
    "          'figure.figsize': (15, 8),\n",
    "         'axes.labelsize': 14,\n",
    "         'axes.titlesize':14,\n",
    "         'xtick.labelsize':14,\n",
    "         'ytick.labelsize':16,\n",
    "         'axes.facecolor': 'white',\n",
    "         'axes.edgecolor': 'white',\n",
    "         'axes.grid': 'False',\n",
    "         'figure.facecolor': 'white'}\n",
    "plt.rcParams.update(params)"
   ]
  },
  {
   "cell_type": "code",
   "execution_count": 82,
   "metadata": {
    "scrolled": false
   },
   "outputs": [
    {
     "data": {
      "text/html": [
       "<div>\n",
       "<style scoped>\n",
       "    .dataframe tbody tr th:only-of-type {\n",
       "        vertical-align: middle;\n",
       "    }\n",
       "\n",
       "    .dataframe tbody tr th {\n",
       "        vertical-align: top;\n",
       "    }\n",
       "\n",
       "    .dataframe thead th {\n",
       "        text-align: right;\n",
       "    }\n",
       "</style>\n",
       "<table border=\"1\" class=\"dataframe\">\n",
       "  <thead>\n",
       "    <tr style=\"text-align: right;\">\n",
       "      <th></th>\n",
       "      <th>farmacia_nro_soe</th>\n",
       "      <th>titular_nombre</th>\n",
       "      <th>direccion_vial_tipo</th>\n",
       "      <th>direccion_vial_nombre</th>\n",
       "      <th>direccion_vial_nro</th>\n",
       "      <th>municipio_nombre</th>\n",
       "      <th>localizacion_coordenada_x</th>\n",
       "      <th>localizacion_coordenada_y</th>\n",
       "    </tr>\n",
       "  </thead>\n",
       "  <tbody>\n",
       "    <tr>\n",
       "      <th>0</th>\n",
       "      <td>2</td>\n",
       "      <td>Mª Del Pilar Corral Palomino</td>\n",
       "      <td>PLAZA</td>\n",
       "      <td>del Dos de Mayo</td>\n",
       "      <td>6</td>\n",
       "      <td>Madrid</td>\n",
       "      <td>440267.0</td>\n",
       "      <td>4475426.0</td>\n",
       "    </tr>\n",
       "    <tr>\n",
       "      <th>1</th>\n",
       "      <td>3</td>\n",
       "      <td>Montserrat Gimenez Mestre</td>\n",
       "      <td>CALLE</td>\n",
       "      <td>de Ríos Rosas</td>\n",
       "      <td>50</td>\n",
       "      <td>Madrid</td>\n",
       "      <td>440954.0</td>\n",
       "      <td>4477004.0</td>\n",
       "    </tr>\n",
       "    <tr>\n",
       "      <th>2</th>\n",
       "      <td>4</td>\n",
       "      <td>Justo Aquilino Corral Aragon</td>\n",
       "      <td>CALLE</td>\n",
       "      <td>de Argensola</td>\n",
       "      <td>12</td>\n",
       "      <td>Madrid</td>\n",
       "      <td>441063.0</td>\n",
       "      <td>4475193.0</td>\n",
       "    </tr>\n",
       "    <tr>\n",
       "      <th>3</th>\n",
       "      <td>5</td>\n",
       "      <td>Irene Arroita Del Campo</td>\n",
       "      <td>CALLE</td>\n",
       "      <td>de Alcalá</td>\n",
       "      <td>98</td>\n",
       "      <td>Madrid</td>\n",
       "      <td>442754.0</td>\n",
       "      <td>4475148.0</td>\n",
       "    </tr>\n",
       "    <tr>\n",
       "      <th>4</th>\n",
       "      <td>6</td>\n",
       "      <td>Esther Sansi Ponsico</td>\n",
       "      <td>PLAZA</td>\n",
       "      <td>de Salesas</td>\n",
       "      <td>7</td>\n",
       "      <td>Madrid</td>\n",
       "      <td>441090.0</td>\n",
       "      <td>4475021.0</td>\n",
       "    </tr>\n",
       "  </tbody>\n",
       "</table>\n",
       "</div>"
      ],
      "text/plain": [
       "   farmacia_nro_soe                titular_nombre direccion_vial_tipo  \\\n",
       "0                 2  Mª Del Pilar Corral Palomino               PLAZA   \n",
       "1                 3     Montserrat Gimenez Mestre               CALLE   \n",
       "2                 4  Justo Aquilino Corral Aragon               CALLE   \n",
       "3                 5       Irene Arroita Del Campo               CALLE   \n",
       "4                 6          Esther Sansi Ponsico               PLAZA   \n",
       "\n",
       "  direccion_vial_nombre direccion_vial_nro municipio_nombre  \\\n",
       "0       del Dos de Mayo                  6           Madrid   \n",
       "1         de Ríos Rosas                 50           Madrid   \n",
       "2          de Argensola                 12           Madrid   \n",
       "3             de Alcalá                 98           Madrid   \n",
       "4            de Salesas                  7           Madrid   \n",
       "\n",
       "   localizacion_coordenada_x  localizacion_coordenada_y  \n",
       "0                   440267.0                  4475426.0  \n",
       "1                   440954.0                  4477004.0  \n",
       "2                   441063.0                  4475193.0  \n",
       "3                   442754.0                  4475148.0  \n",
       "4                   441090.0                  4475021.0  "
      ]
     },
     "execution_count": 82,
     "metadata": {},
     "output_type": "execute_result"
    }
   ],
   "source": [
    "# Leer datos de farmacias en Comunidad de Madrid\n",
    "farma = pd.read_csv('201911_oficinas_farmacia.csv',encoding = 'iso-8859-1', delimiter = ';')\n",
    "\n",
    "farma.head()"
   ]
  },
  {
   "cell_type": "code",
   "execution_count": 85,
   "metadata": {},
   "outputs": [
    {
     "data": {
      "text/html": [
       "<div>\n",
       "<style scoped>\n",
       "    .dataframe tbody tr th:only-of-type {\n",
       "        vertical-align: middle;\n",
       "    }\n",
       "\n",
       "    .dataframe tbody tr th {\n",
       "        vertical-align: top;\n",
       "    }\n",
       "\n",
       "    .dataframe thead th {\n",
       "        text-align: right;\n",
       "    }\n",
       "</style>\n",
       "<table border=\"1\" class=\"dataframe\">\n",
       "  <thead>\n",
       "    <tr style=\"text-align: right;\">\n",
       "      <th></th>\n",
       "      <th>municipio_nombre</th>\n",
       "      <th>farmacia_nro_soe</th>\n",
       "    </tr>\n",
       "  </thead>\n",
       "  <tbody>\n",
       "    <tr>\n",
       "      <th>0</th>\n",
       "      <td>Ajalvir</td>\n",
       "      <td>1</td>\n",
       "    </tr>\n",
       "    <tr>\n",
       "      <th>1</th>\n",
       "      <td>Alameda del Valle</td>\n",
       "      <td>1</td>\n",
       "    </tr>\n",
       "    <tr>\n",
       "      <th>2</th>\n",
       "      <td>Alamo, El</td>\n",
       "      <td>1</td>\n",
       "    </tr>\n",
       "    <tr>\n",
       "      <th>3</th>\n",
       "      <td>Alcalá de Henares</td>\n",
       "      <td>69</td>\n",
       "    </tr>\n",
       "    <tr>\n",
       "      <th>4</th>\n",
       "      <td>Alcobendas</td>\n",
       "      <td>38</td>\n",
       "    </tr>\n",
       "  </tbody>\n",
       "</table>\n",
       "</div>"
      ],
      "text/plain": [
       "    municipio_nombre  farmacia_nro_soe\n",
       "0            Ajalvir                 1\n",
       "1  Alameda del Valle                 1\n",
       "2          Alamo, El                 1\n",
       "3  Alcalá de Henares                69\n",
       "4         Alcobendas                38"
      ]
     },
     "execution_count": 85,
     "metadata": {},
     "output_type": "execute_result"
    }
   ],
   "source": [
    "# Numero de farmacias por municipio\n",
    "num_farma = farma.groupby('municipio_nombre')['farmacia_nro_soe'].count().reset_index()\n",
    "num_farma.head(5)"
   ]
  },
  {
   "cell_type": "code",
   "execution_count": 87,
   "metadata": {},
   "outputs": [
    {
     "data": {
      "text/plain": [
       "2875"
      ]
     },
     "execution_count": 87,
     "metadata": {},
     "output_type": "execute_result"
    }
   ],
   "source": [
    "# total de farmacias\n",
    "num_farmacias = num_farma['farmacia_nro_soe'].sum()\n",
    "num_farmacias"
   ]
  },
  {
   "cell_type": "code",
   "execution_count": 88,
   "metadata": {},
   "outputs": [
    {
     "data": {
      "text/plain": [
       "2317"
      ]
     },
     "execution_count": 88,
     "metadata": {},
     "output_type": "execute_result"
    }
   ],
   "source": [
    "# media de habitantes por farmacia\n",
    "hab_cm = 6662000\n",
    "hab_farmacia = hab_cm/num_farmacias\n",
    "int(hab_farmacia)"
   ]
  },
  {
   "cell_type": "code",
   "execution_count": 89,
   "metadata": {
    "scrolled": true
   },
   "outputs": [
    {
     "data": {
      "text/html": [
       "<div>\n",
       "<style scoped>\n",
       "    .dataframe tbody tr th:only-of-type {\n",
       "        vertical-align: middle;\n",
       "    }\n",
       "\n",
       "    .dataframe tbody tr th {\n",
       "        vertical-align: top;\n",
       "    }\n",
       "\n",
       "    .dataframe thead th {\n",
       "        text-align: right;\n",
       "    }\n",
       "</style>\n",
       "<table border=\"1\" class=\"dataframe\">\n",
       "  <thead>\n",
       "    <tr style=\"text-align: right;\">\n",
       "      <th></th>\n",
       "      <th>municipio_nombre</th>\n",
       "      <th>superficie_km2</th>\n",
       "      <th>densidad_por_km2</th>\n",
       "    </tr>\n",
       "  </thead>\n",
       "  <tbody>\n",
       "    <tr>\n",
       "      <th>0</th>\n",
       "      <td>Acebeda (La)</td>\n",
       "      <td>21.86</td>\n",
       "      <td>3.02</td>\n",
       "    </tr>\n",
       "    <tr>\n",
       "      <th>1</th>\n",
       "      <td>Ajalvir</td>\n",
       "      <td>19.80</td>\n",
       "      <td>225.00</td>\n",
       "    </tr>\n",
       "    <tr>\n",
       "      <th>2</th>\n",
       "      <td>Alameda del Valle</td>\n",
       "      <td>25.70</td>\n",
       "      <td>7.74</td>\n",
       "    </tr>\n",
       "    <tr>\n",
       "      <th>3</th>\n",
       "      <td>Alamo (El)</td>\n",
       "      <td>22.00</td>\n",
       "      <td>415.86</td>\n",
       "    </tr>\n",
       "    <tr>\n",
       "      <th>4</th>\n",
       "      <td>Alcalá de Henares</td>\n",
       "      <td>88.11</td>\n",
       "      <td>2205.31</td>\n",
       "    </tr>\n",
       "  </tbody>\n",
       "</table>\n",
       "</div>"
      ],
      "text/plain": [
       "    municipio_nombre  superficie_km2  densidad_por_km2\n",
       "0       Acebeda (La)           21.86              3.02\n",
       "1            Ajalvir           19.80            225.00\n",
       "2  Alameda del Valle           25.70              7.74\n",
       "3         Alamo (El)           22.00            415.86\n",
       "4  Alcalá de Henares           88.11           2205.31"
      ]
     },
     "execution_count": 89,
     "metadata": {},
     "output_type": "execute_result"
    }
   ],
   "source": [
    "# Leer datos de municipios de la Comunidad de Madrid\n",
    "muni = pd.read_csv('201911_municipio_comunidad_madrid.csv',encoding = 'iso-8859-1', delimiter = ';')\n",
    "muni.drop(muni.columns[[0,2,3,4]], inplace=True, axis=1)\n",
    "muni.head()"
   ]
  },
  {
   "cell_type": "code",
   "execution_count": 90,
   "metadata": {},
   "outputs": [
    {
     "data": {
      "text/plain": [
       "municipio_nombre    179\n",
       "superficie_km2      179\n",
       "densidad_por_km2    179\n",
       "dtype: int64"
      ]
     },
     "execution_count": 90,
     "metadata": {},
     "output_type": "execute_result"
    }
   ],
   "source": [
    "muni.count()"
   ]
  },
  {
   "cell_type": "code",
   "execution_count": 91,
   "metadata": {},
   "outputs": [],
   "source": [
    "def renombra(row):\n",
    "    nombre = row['municipio_nombre']\n",
    "    if '(La)' in nombre:\n",
    "        nuevo_nombre = nombre[0:len(nombre)-5] +', La'\n",
    "    elif '(El)' in nombre:\n",
    "        nuevo_nombre = nombre[0:len(nombre)-5] +', El'\n",
    "    elif '(Los)' in nombre:\n",
    "        nuevo_nombre = nombre[0:len(nombre)-6] +', Los'\n",
    "    elif '(Las)' in nombre:\n",
    "        nuevo_nombre = nombre[0:len(nombre)-6] +', Las'\n",
    "    else:\n",
    "        nuevo_nombre = nombre\n",
    "    return nuevo_nombre.strip()\n",
    "\n",
    "muni['municipio_nombre'] = muni.apply (lambda row: renombra(row), axis=1)"
   ]
  },
  {
   "cell_type": "code",
   "execution_count": 92,
   "metadata": {},
   "outputs": [
    {
     "data": {
      "text/html": [
       "<div>\n",
       "<style scoped>\n",
       "    .dataframe tbody tr th:only-of-type {\n",
       "        vertical-align: middle;\n",
       "    }\n",
       "\n",
       "    .dataframe tbody tr th {\n",
       "        vertical-align: top;\n",
       "    }\n",
       "\n",
       "    .dataframe thead th {\n",
       "        text-align: right;\n",
       "    }\n",
       "</style>\n",
       "<table border=\"1\" class=\"dataframe\">\n",
       "  <thead>\n",
       "    <tr style=\"text-align: right;\">\n",
       "      <th></th>\n",
       "      <th>municipio_nombre</th>\n",
       "      <th>farmacia_nro_soe</th>\n",
       "      <th>superficie_km2</th>\n",
       "      <th>densidad_por_km2</th>\n",
       "    </tr>\n",
       "  </thead>\n",
       "  <tbody>\n",
       "    <tr>\n",
       "      <th>0</th>\n",
       "      <td>Ajalvir</td>\n",
       "      <td>1.0</td>\n",
       "      <td>19.80</td>\n",
       "      <td>225.00</td>\n",
       "    </tr>\n",
       "    <tr>\n",
       "      <th>1</th>\n",
       "      <td>Alameda del Valle</td>\n",
       "      <td>1.0</td>\n",
       "      <td>25.70</td>\n",
       "      <td>7.74</td>\n",
       "    </tr>\n",
       "    <tr>\n",
       "      <th>2</th>\n",
       "      <td>Alamo, El</td>\n",
       "      <td>1.0</td>\n",
       "      <td>22.00</td>\n",
       "      <td>415.86</td>\n",
       "    </tr>\n",
       "    <tr>\n",
       "      <th>3</th>\n",
       "      <td>Alcalá de Henares</td>\n",
       "      <td>69.0</td>\n",
       "      <td>88.11</td>\n",
       "      <td>2205.31</td>\n",
       "    </tr>\n",
       "    <tr>\n",
       "      <th>4</th>\n",
       "      <td>Alcobendas</td>\n",
       "      <td>38.0</td>\n",
       "      <td>45.24</td>\n",
       "      <td>2538.99</td>\n",
       "    </tr>\n",
       "  </tbody>\n",
       "</table>\n",
       "</div>"
      ],
      "text/plain": [
       "    municipio_nombre  farmacia_nro_soe  superficie_km2  densidad_por_km2\n",
       "0            Ajalvir               1.0           19.80            225.00\n",
       "1  Alameda del Valle               1.0           25.70              7.74\n",
       "2          Alamo, El               1.0           22.00            415.86\n",
       "3  Alcalá de Henares              69.0           88.11           2205.31\n",
       "4         Alcobendas              38.0           45.24           2538.99"
      ]
     },
     "execution_count": 92,
     "metadata": {},
     "output_type": "execute_result"
    }
   ],
   "source": [
    "resul= pd.merge(num_farma, muni, on='municipio_nombre', how='right')\n",
    "resul.head()"
   ]
  },
  {
   "cell_type": "code",
   "execution_count": 93,
   "metadata": {},
   "outputs": [],
   "source": [
    "resul['farmacia_nro_soe'] = resul['farmacia_nro_soe'].fillna(0)\n",
    "resul['hab_farmacia']= resul['superficie_km2']*resul['densidad_por_km2']/resul['farmacia_nro_soe']\n",
    "resul['hab_farmacia_1']= resul['superficie_km2']*resul['densidad_por_km2']/(resul['farmacia_nro_soe']+1)\n",
    "resul = resul[resul['hab_farmacia'] < 10000].sort_values(by=['hab_farmacia'],ascending=False)\n",
    "resul.to_csv('resul.csv', encoding = 'UTF-8', sep = ',')"
   ]
  },
  {
   "cell_type": "code",
   "execution_count": 94,
   "metadata": {},
   "outputs": [
    {
     "data": {
      "text/plain": [
       "0"
      ]
     },
     "execution_count": 94,
     "metadata": {},
     "output_type": "execute_result"
    }
   ],
   "source": [
    "resul[resul['farmacia_nro_soe'] == 0]['municipio_nombre'].count()"
   ]
  },
  {
   "cell_type": "code",
   "execution_count": 95,
   "metadata": {},
   "outputs": [
    {
     "data": {
      "text/plain": [
       "85"
      ]
     },
     "execution_count": 95,
     "metadata": {},
     "output_type": "execute_result"
    }
   ],
   "source": [
    "resul[resul['farmacia_nro_soe'] == 1]['municipio_nombre'].count()"
   ]
  },
  {
   "cell_type": "code",
   "execution_count": 97,
   "metadata": {},
   "outputs": [
    {
     "data": {
      "text/html": [
       "<div>\n",
       "<style scoped>\n",
       "    .dataframe tbody tr th:only-of-type {\n",
       "        vertical-align: middle;\n",
       "    }\n",
       "\n",
       "    .dataframe tbody tr th {\n",
       "        vertical-align: top;\n",
       "    }\n",
       "\n",
       "    .dataframe thead th {\n",
       "        text-align: right;\n",
       "    }\n",
       "</style>\n",
       "<table border=\"1\" class=\"dataframe\">\n",
       "  <thead>\n",
       "    <tr style=\"text-align: right;\">\n",
       "      <th></th>\n",
       "      <th>municipio_nombre</th>\n",
       "      <th>farmacia_nro_soe</th>\n",
       "      <th>superficie_km2</th>\n",
       "      <th>densidad_por_km2</th>\n",
       "      <th>hab_farmacia</th>\n",
       "      <th>hab_farmacia_1</th>\n",
       "    </tr>\n",
       "  </thead>\n",
       "  <tbody>\n",
       "    <tr>\n",
       "      <th>69</th>\n",
       "      <td>Madrid</td>\n",
       "      <td>1815.0</td>\n",
       "      <td>604.66</td>\n",
       "      <td>5264.08</td>\n",
       "      <td>1753.707225</td>\n",
       "      <td>1752.741527</td>\n",
       "    </tr>\n",
       "  </tbody>\n",
       "</table>\n",
       "</div>"
      ],
      "text/plain": [
       "   municipio_nombre  farmacia_nro_soe  superficie_km2  densidad_por_km2  \\\n",
       "69           Madrid            1815.0          604.66           5264.08   \n",
       "\n",
       "    hab_farmacia  hab_farmacia_1  \n",
       "69   1753.707225     1752.741527  "
      ]
     },
     "execution_count": 97,
     "metadata": {},
     "output_type": "execute_result"
    }
   ],
   "source": [
    "resul[resul['municipio_nombre'] == 'Madrid']"
   ]
  },
  {
   "cell_type": "code",
   "execution_count": 98,
   "metadata": {},
   "outputs": [
    {
     "data": {
      "text/plain": [
       "3183.8450320512497"
      ]
     },
     "execution_count": 98,
     "metadata": {},
     "output_type": "execute_result"
    }
   ],
   "source": [
    "resul[resul['farmacia_nro_soe'] >= 10]['hab_farmacia'].mean()"
   ]
  },
  {
   "cell_type": "code",
   "execution_count": 99,
   "metadata": {},
   "outputs": [
    {
     "data": {
      "text/plain": [
       "6194.520881833333"
      ]
     },
     "execution_count": 99,
     "metadata": {},
     "output_type": "execute_result"
    }
   ],
   "source": [
    "resul.head(20)['hab_farmacia'].mean()"
   ]
  },
  {
   "cell_type": "code",
   "execution_count": 100,
   "metadata": {
    "scrolled": true
   },
   "outputs": [],
   "source": [
    "resul20 = resul.head(20)"
   ]
  },
  {
   "cell_type": "code",
   "execution_count": 101,
   "metadata": {},
   "outputs": [
    {
     "data": {
      "image/png": "[encoded data removed]",
      "text/plain": [
       "<Figure size 1080x1080 with 3 Axes>"
      ]
     },
     "metadata": {},
     "output_type": "display_data"
    }
   ],
   "source": [
    "# Gráfico de densidad de farmacias por municipios\n",
    "\n",
    "fig, (ax1,ax2,ax3 ) = plt.subplots(1, 3, sharey=True, figsize=(15,15))\n",
    "fig.suptitle('Los 20 municipios con mayor densidad de habitantes por farmacia',fontsize= 18)\n",
    "\n",
    "x = resul20['municipio_nombre']\n",
    "y1 = resul20['farmacia_nro_soe']\n",
    "y2 = resul20['hab_farmacia']\n",
    "y3 = resul20['hab_farmacia_1']\n",
    "\n",
    "ax1.barh(x, y1, alpha=0.8, color=sns.color_palette()[2])\n",
    "ax2.barh(x, y2, alpha=1, color=sns.color_palette()[0])\n",
    "ax3.barh(x, y3, alpha=0.6, color=sns.color_palette()[0])\n",
    "\n",
    "plt.gca().invert_yaxis()\n",
    "\n",
    "ax1.grid(axis='x')\n",
    "ax2.grid(axis='x')\n",
    "ax3.grid(axis='x')\n",
    "\n",
    "ax2.axvline(x=2200, ls='--', alpha=0.8, color=sns.color_palette()[1])\n",
    "ax3.axvline(x=2200, ls='--', alpha=0.8, color=sns.color_palette()[1])\n",
    "\n",
    "ax1.set_title('Nº de farmacias',fontsize= 16)\n",
    "ax2.set_title('Habitantes por farmacia',fontsize= 16)\n",
    "ax3.set_title('Hab por farmacia tras abrir 1 nueva',fontsize= 16)\n",
    "\n",
    "plt.savefig('images/farmacias_hab.png', bbox_inches='tight', pad_inches=0.3, dpi=220,facecolor='white')\n",
    "plt.show()"
   ]
  },
  {
   "cell_type": "code",
   "execution_count": null,
   "metadata": {},
   "outputs": [],
   "source": []
  }
 ],
 "metadata": {
  "kernelspec": {
   "display_name": "Python 3",
   "language": "python",
   "name": "python3"
  },
  "language_info": {
   "codemirror_mode": {
    "name": "ipython",
    "version": 3
   },
   "file_extension": ".py",
   "mimetype": "text/x-python",
   "name": "python",
   "nbconvert_exporter": "python",
   "pygments_lexer": "ipython3",
   "version": "3.7.3"
  }
 },
 "nbformat": 4,
 "nbformat_minor": 2
}
