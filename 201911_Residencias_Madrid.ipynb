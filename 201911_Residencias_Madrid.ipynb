{
 "cells": [
  {
   "cell_type": "code",
   "execution_count": 8,
   "metadata": {},
   "outputs": [],
   "source": [
    "import pandas as pd\n",
    "import numpy as np\n",
    "import matplotlib.pyplot as plt\n",
    "import seaborn as sns\n",
    "import datetime\n",
    "\n",
    "\n",
    "plt.style.use('fivethirtyeight')\n",
    "\n",
    "%matplotlib inline\n",
    "\n",
    "params = {'legend.fontsize': 14,\n",
    "          'figure.figsize': (15, 8),\n",
    "         'axes.labelsize': 14,\n",
    "         'axes.titlesize':14,\n",
    "         'xtick.labelsize':14,\n",
    "         'ytick.labelsize':14,\n",
    "         'axes.facecolor': 'white',\n",
    "         'axes.edgecolor': 'white',\n",
    "         'axes.grid': 'False',\n",
    "         'figure.facecolor': 'white'}\n",
    "plt.rcParams.update(params)"
   ]
  },
  {
   "cell_type": "code",
   "execution_count": 2,
   "metadata": {
    "scrolled": false
   },
   "outputs": [
    {
     "data": {
      "text/html": [
       "<div>\n",
       "<style scoped>\n",
       "    .dataframe tbody tr th:only-of-type {\n",
       "        vertical-align: middle;\n",
       "    }\n",
       "\n",
       "    .dataframe tbody tr th {\n",
       "        vertical-align: top;\n",
       "    }\n",
       "\n",
       "    .dataframe thead th {\n",
       "        text-align: right;\n",
       "    }\n",
       "</style>\n",
       "<table border=\"1\" class=\"dataframe\">\n",
       "  <thead>\n",
       "    <tr style=\"text-align: right;\">\n",
       "      <th></th>\n",
       "      <th>empresa</th>\n",
       "      <th>centro</th>\n",
       "      <th>resol</th>\n",
       "      <th>year</th>\n",
       "      <th>motivo</th>\n",
       "      <th>sancion</th>\n",
       "    </tr>\n",
       "  </thead>\n",
       "  <tbody>\n",
       "    <tr>\n",
       "      <th>0</th>\n",
       "      <td>ASOCIACIÓN DE ANGELES URBANOS</td>\n",
       "      <td>ANGELES URBANOS HORTALEZA, CO</td>\n",
       "      <td>2723/2016</td>\n",
       "      <td>2016</td>\n",
       "      <td>29.c</td>\n",
       "      <td>42003</td>\n",
       "    </tr>\n",
       "    <tr>\n",
       "      <th>1</th>\n",
       "      <td>ASOCIACIÓN DE ANGELES URBANOS</td>\n",
       "      <td>ANGELES URBANOS HORTALEZA, CO</td>\n",
       "      <td>2723/2016</td>\n",
       "      <td>2016</td>\n",
       "      <td>28.c</td>\n",
       "      <td>NaN</td>\n",
       "    </tr>\n",
       "    <tr>\n",
       "      <th>2</th>\n",
       "      <td>ASOCIACIÓN DE ANGELES URBANOS</td>\n",
       "      <td>ANGELES URBANOS HORTALEZA, CO</td>\n",
       "      <td>2723/2016</td>\n",
       "      <td>2016</td>\n",
       "      <td>28.i</td>\n",
       "      <td>NaN</td>\n",
       "    </tr>\n",
       "    <tr>\n",
       "      <th>3</th>\n",
       "      <td>ASOCIACIÓN BETEL</td>\n",
       "      <td>CENTRO NO INSCRITO</td>\n",
       "      <td>36/2016</td>\n",
       "      <td>2016</td>\n",
       "      <td>29.b</td>\n",
       "      <td>30001</td>\n",
       "    </tr>\n",
       "    <tr>\n",
       "      <th>4</th>\n",
       "      <td>ATIPADACE</td>\n",
       "      <td>ATIPADACE, CD</td>\n",
       "      <td>752/2016</td>\n",
       "      <td>2016</td>\n",
       "      <td>29.b</td>\n",
       "      <td>30001</td>\n",
       "    </tr>\n",
       "  </tbody>\n",
       "</table>\n",
       "</div>"
      ],
      "text/plain": [
       "                         empresa                          centro      resol  \\\n",
       "0  ASOCIACIÓN DE ANGELES URBANOS  ANGELES URBANOS HORTALEZA, CO   2723/2016   \n",
       "1  ASOCIACIÓN DE ANGELES URBANOS  ANGELES URBANOS HORTALEZA, CO   2723/2016   \n",
       "2  ASOCIACIÓN DE ANGELES URBANOS  ANGELES URBANOS HORTALEZA, CO   2723/2016   \n",
       "3               ASOCIACIÓN BETEL              CENTRO NO INSCRITO    36/2016   \n",
       "4                      ATIPADACE                   ATIPADACE, CD   752/2016   \n",
       "\n",
       "   year motivo sancion  \n",
       "0  2016   29.c   42003  \n",
       "1  2016   28.c     NaN  \n",
       "2  2016   28.i     NaN  \n",
       "3  2016   29.b   30001  \n",
       "4  2016   29.b   30001  "
      ]
     },
     "execution_count": 2,
     "metadata": {},
     "output_type": "execute_result"
    }
   ],
   "source": [
    "# Leer datos de residencias sancionadas en Madrid\n",
    "sanci = pd.read_csv('201911_residencias_madrid.csv',encoding = 'UTF-8'\n",
    "                     ,delimiter = ',')\n",
    "sanci.columns=['empresa','centro','resol','year','motivo','sancion']\n",
    "sanci.head()"
   ]
  },
  {
   "cell_type": "code",
   "execution_count": 3,
   "metadata": {},
   "outputs": [],
   "source": [
    "def calculatelevel(row):\n",
    "    if '27' in row['motivo']:\n",
    "        level = 'L'\n",
    "    elif '28' in row['motivo']:\n",
    "        level = 'G'\n",
    "    elif '29' in row['motivo']:\n",
    "        level = 'MG'\n",
    "    else:\n",
    "        level = 'D'\n",
    "    return level\n",
    "\n",
    "sanci['nivelinfra'] = sanci.apply (lambda row: calculatelevel(row), axis=1)"
   ]
  },
  {
   "cell_type": "code",
   "execution_count": 4,
   "metadata": {},
   "outputs": [
    {
     "data": {
      "text/plain": [
       "166"
      ]
     },
     "execution_count": 4,
     "metadata": {},
     "output_type": "execute_result"
    }
   ],
   "source": [
    "# Nº de resoluciones en los últimos años\n",
    "sanci['resol'].nunique()"
   ]
  },
  {
   "cell_type": "code",
   "execution_count": 5,
   "metadata": {},
   "outputs": [
    {
     "data": {
      "text/plain": [
       "292"
      ]
     },
     "execution_count": 5,
     "metadata": {},
     "output_type": "execute_result"
    }
   ],
   "source": [
    "# Nº de sanciones en los últimos años\n",
    "sanci['motivo'].count()"
   ]
  },
  {
   "cell_type": "code",
   "execution_count": 16,
   "metadata": {},
   "outputs": [
    {
     "data": {
      "text/plain": [
       "129"
      ]
     },
     "execution_count": 16,
     "metadata": {},
     "output_type": "execute_result"
    }
   ],
   "source": [
    "# Nº de empresas sancionadas en los últimos años\n",
    "sancionadas =sanci['empresa'].nunique()\n",
    "no_sancionadas = 472 - sancionadas\n",
    "sancionadas"
   ]
  },
  {
   "cell_type": "code",
   "execution_count": 9,
   "metadata": {},
   "outputs": [
    {
     "data": {
      "image/png": "[encoded data removed]",
      "text/plain": [
       "<Figure size 1080x576 with 1 Axes>"
      ]
     },
     "metadata": {},
     "output_type": "display_data"
    }
   ],
   "source": [
    "# Pie chart\n",
    "labels = ['Sancionadas', 'Sin sanción']\n",
    "sizes = [sancionadas, no_sancionadas]\n",
    "#colors\n",
    "colors = [sns.color_palette()[1],sns.color_palette()[3]]\n",
    " \n",
    "plt.pie(sizes, colors = colors, labels=labels, autopct='%1.1f%%', startangle=-50, pctdistance=0.85,\n",
    "        textprops={'fontsize': 16})\n",
    "#draw circle\n",
    "centre_circle = plt.Circle((0,0),0.65,fc='white')\n",
    "fig = plt.gcf()\n",
    "fig.gca().add_artist(centre_circle)\n",
    "# Equal aspect ratio ensures that pie is drawn as a circle\n",
    "plt.axis('equal')  \n",
    "plt.title('% de empresas sancionadas',fontsize= 18)\n",
    "plt.savefig('images/ratio-sancionadas.png', bbox_inches='tight', pad_inches=0.3, dpi=220,facecolor='white')\n",
    "plt.show()"
   ]
  },
  {
   "cell_type": "code",
   "execution_count": 10,
   "metadata": {},
   "outputs": [
    {
     "data": {
      "text/html": [
       "<div>\n",
       "<style scoped>\n",
       "    .dataframe tbody tr th:only-of-type {\n",
       "        vertical-align: middle;\n",
       "    }\n",
       "\n",
       "    .dataframe tbody tr th {\n",
       "        vertical-align: top;\n",
       "    }\n",
       "\n",
       "    .dataframe thead th {\n",
       "        text-align: right;\n",
       "    }\n",
       "</style>\n",
       "<table border=\"1\" class=\"dataframe\">\n",
       "  <thead>\n",
       "    <tr style=\"text-align: right;\">\n",
       "      <th></th>\n",
       "      <th>year</th>\n",
       "      <th>G</th>\n",
       "      <th>L</th>\n",
       "      <th>MG</th>\n",
       "    </tr>\n",
       "  </thead>\n",
       "  <tbody>\n",
       "    <tr>\n",
       "      <th>0</th>\n",
       "      <td>2014</td>\n",
       "      <td>39</td>\n",
       "      <td>5</td>\n",
       "      <td>3</td>\n",
       "    </tr>\n",
       "    <tr>\n",
       "      <th>1</th>\n",
       "      <td>2015</td>\n",
       "      <td>56</td>\n",
       "      <td>9</td>\n",
       "      <td>7</td>\n",
       "    </tr>\n",
       "    <tr>\n",
       "      <th>2</th>\n",
       "      <td>2016</td>\n",
       "      <td>41</td>\n",
       "      <td>7</td>\n",
       "      <td>12</td>\n",
       "    </tr>\n",
       "    <tr>\n",
       "      <th>3</th>\n",
       "      <td>2017</td>\n",
       "      <td>29</td>\n",
       "      <td>3</td>\n",
       "      <td>5</td>\n",
       "    </tr>\n",
       "    <tr>\n",
       "      <th>4</th>\n",
       "      <td>2018</td>\n",
       "      <td>65</td>\n",
       "      <td>3</td>\n",
       "      <td>8</td>\n",
       "    </tr>\n",
       "  </tbody>\n",
       "</table>\n",
       "</div>"
      ],
      "text/plain": [
       "   year   G  L  MG\n",
       "0  2014  39  5   3\n",
       "1  2015  56  9   7\n",
       "2  2016  41  7  12\n",
       "3  2017  29  3   5\n",
       "4  2018  65  3   8"
      ]
     },
     "execution_count": 10,
     "metadata": {},
     "output_type": "execute_result"
    }
   ],
   "source": [
    "# Agrupación de sanciones por gravedad y año\n",
    "motivosxnivel = pd.pivot_table(sanci,index=['year'],values=[\"resol\"],\n",
    "               columns=['nivelinfra'],aggfunc=[len]).reset_index()\n",
    "motivosxnivel.columns = ['year','G','L','MG']\n",
    "motivosxnivel"
   ]
  },
  {
   "cell_type": "code",
   "execution_count": 11,
   "metadata": {},
   "outputs": [
    {
     "data": {
      "image/png": "[encoded data removed]",
      "text/plain": [
       "<Figure size 1080x576 with 1 Axes>"
      ]
     },
     "metadata": {},
     "output_type": "display_data"
    }
   ],
   "source": [
    "# dibujar infracciones por nivel de gravedad y año\n",
    "\n",
    "x = motivosxnivel['year']\n",
    "y1 = motivosxnivel['L']\n",
    "y2 = motivosxnivel['G']\n",
    "y3 = motivosxnivel['MG']\n",
    "\n",
    "plt.bar(x, y1, alpha=1, color=sns.color_palette()[3], label = 'Leves'\n",
    "        ,width=0.5)\n",
    "plt.bar(x, y2, alpha=1, color=sns.color_palette()[2], bottom = y1, label = 'Graves'\n",
    "        ,width=0.5)\n",
    "plt.bar(x, y3, alpha=1, color=sns.color_palette()[1], bottom = y1+y2, label = 'Muy Graves'\n",
    "        ,width=0.5)\n",
    "\n",
    "plt.xticks(x,rotation = 0)\n",
    "plt.grid(axis='y')\n",
    "plt.legend()\n",
    "plt.title('Nº de infracciones por gavedad',fontsize= 18)\n",
    "plt.savefig('images/infra_gravedad.png', bbox_inches='tight', pad_inches=0.3, dpi=220, facecolor='white')\n",
    "plt.show()"
   ]
  },
  {
   "cell_type": "code",
   "execution_count": 12,
   "metadata": {
    "scrolled": true
   },
   "outputs": [],
   "source": [
    "motivos = sanci.groupby(['motivo'])['empresa'].count().reset_index()\n"
   ]
  },
  {
   "cell_type": "code",
   "execution_count": 14,
   "metadata": {},
   "outputs": [
    {
     "data": {
      "image/png": "[encoded data removed]",
      "text/plain": [
       "<Figure size 1080x576 with 1 Axes>"
      ]
     },
     "metadata": {},
     "output_type": "display_data"
    }
   ],
   "source": [
    "# dibujar infracciones por motivo\n",
    "\n",
    "x = motivos['motivo']\n",
    "y = motivos['empresa']\n",
    "\n",
    "plt.bar(x, y, alpha=1, color=sns.color_palette()[2],label ='Graves',width=0.5)\n",
    "plt.bar(x[0], y[0], alpha=1, color=sns.color_palette()[3],label ='Leves',width=0.5)\n",
    "plt.bar(x[-4:], y[-4:], alpha=1, color=sns.color_palette()[1],label ='Muy Graves',width=0.5)\n",
    "\n",
    "plt.xticks(x,rotation = 0)\n",
    "plt.grid(axis='y')\n",
    "plt.legend()\n",
    "plt.title('Nº de infracciones por tipo de sanción',fontsize= 18)\n",
    "plt.savefig('images/infra_motivo.png', bbox_inches='tight', pad_inches=0.3, dpi=220, facecolor='white')\n",
    "plt.show()"
   ]
  },
  {
   "cell_type": "code",
   "execution_count": 17,
   "metadata": {},
   "outputs": [
    {
     "data": {
      "text/html": [
       "<div>\n",
       "<style scoped>\n",
       "    .dataframe tbody tr th:only-of-type {\n",
       "        vertical-align: middle;\n",
       "    }\n",
       "\n",
       "    .dataframe tbody tr th {\n",
       "        vertical-align: top;\n",
       "    }\n",
       "\n",
       "    .dataframe thead th {\n",
       "        text-align: right;\n",
       "    }\n",
       "</style>\n",
       "<table border=\"1\" class=\"dataframe\">\n",
       "  <thead>\n",
       "    <tr style=\"text-align: right;\">\n",
       "      <th></th>\n",
       "      <th>empresa</th>\n",
       "      <th>motivo</th>\n",
       "    </tr>\n",
       "  </thead>\n",
       "  <tbody>\n",
       "    <tr>\n",
       "      <th>91</th>\n",
       "      <td>RESIDENCIA DE LA TERCERA EDAD SIERRA SALUD, S.L.</td>\n",
       "      <td>13</td>\n",
       "    </tr>\n",
       "    <tr>\n",
       "      <th>79</th>\n",
       "      <td>MILAGROS DEL CARMEN MASÍAS NÚÑEZ</td>\n",
       "      <td>9</td>\n",
       "    </tr>\n",
       "    <tr>\n",
       "      <th>86</th>\n",
       "      <td>REMEDIPE, S.L.</td>\n",
       "      <td>8</td>\n",
       "    </tr>\n",
       "    <tr>\n",
       "      <th>65</th>\n",
       "      <td>GESTORA DE RESIDENCIAS SAN FERNANDO, S.L.</td>\n",
       "      <td>6</td>\n",
       "    </tr>\n",
       "    <tr>\n",
       "      <th>115</th>\n",
       "      <td>ROSARIO MAYA AVIAS</td>\n",
       "      <td>6</td>\n",
       "    </tr>\n",
       "  </tbody>\n",
       "</table>\n",
       "</div>"
      ],
      "text/plain": [
       "                                              empresa  motivo\n",
       "91   RESIDENCIA DE LA TERCERA EDAD SIERRA SALUD, S.L.      13\n",
       "79                   MILAGROS DEL CARMEN MASÍAS NÚÑEZ       9\n",
       "86                                     REMEDIPE, S.L.       8\n",
       "65          GESTORA DE RESIDENCIAS SAN FERNANDO, S.L.       6\n",
       "115                                ROSARIO MAYA AVIAS       6"
      ]
     },
     "execution_count": 17,
     "metadata": {},
     "output_type": "execute_result"
    }
   ],
   "source": [
    "# Residencias con más sanciones\n",
    "sumasanci = sanci.groupby(['empresa'])['motivo'].nunique().reset_index()\n",
    "sumasanci[sumasanci['motivo']>5].sort_values(by=['motivo'],ascending=False)"
   ]
  },
  {
   "cell_type": "code",
   "execution_count": null,
   "metadata": {},
   "outputs": [],
   "source": []
  }
 ],
 "metadata": {
  "kernelspec": {
   "display_name": "Python 3",
   "language": "python",
   "name": "python3"
  },
  "language_info": {
   "codemirror_mode": {
    "name": "ipython",
    "version": 3
   },
   "file_extension": ".py",
   "mimetype": "text/x-python",
   "name": "python",
   "nbconvert_exporter": "python",
   "pygments_lexer": "ipython3",
   "version": "3.7.3"
  }
 },
 "nbformat": 4,
 "nbformat_minor": 2
}
